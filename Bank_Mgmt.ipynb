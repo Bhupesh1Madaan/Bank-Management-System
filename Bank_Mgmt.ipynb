{
 "cells": [
  {
   "cell_type": "code",
   "execution_count": 2,
   "id": "2466b414-d212-4888-be2d-3bc1366f422f",
   "metadata": {},
   "outputs": [
    {
     "name": "stdout",
     "output_type": "stream",
     "text": [
      "\n",
      "====== Bank Management Menu ======\n",
      "1. Register New Customer\n",
      "2. Login to Account\n",
      "3. Exit\n"
     ]
    },
    {
     "name": "stdin",
     "output_type": "stream",
     "text": [
      "Enter your choice:  2\n"
     ]
    },
    {
     "name": "stdout",
     "output_type": "stream",
     "text": [
      "\n",
      "--- Customer Login ---\n"
     ]
    },
    {
     "name": "stdin",
     "output_type": "stream",
     "text": [
      "Enter Customer ID:  import json import os import uuid import random import string  DATA_FILE = \"bank_data.json\"  # Load data def load_data():     if os.path.exists(DATA_FILE):         with open(DATA_FILE, \"r\") as f:             return json.load(f)     return {}  # Save data def save_data(data):     with open(DATA_FILE, \"w\") as f:         json.dump(data, f, indent=4)  # Generate unique customer ID def generate_customer_id():     return str(uuid.uuid4())[:8]  # Generate unique 10-digit account number def generate_account_number(existing_numbers):     while True:         acc_num = ''.join(random.choices(string.digits, k=10))         if acc_num not in existing_numbers:             return acc_num  # Register new user def register(data):     print(\"\\n--- Register New Customer ---\")     phone = input(\"Phone Number: \")     name = input(\"Full Name: \")     email = input(\"Email ID: \")     password = input(\"Create a Password: \")      customer_id = generate_customer_id()     acc_num = generate_account_number([user[\"account_number\"] for user in data.values()])      data[customer_id] = {         \"name\": name,         \"email\": email,         \"phone\": phone,         \"account_number\": acc_num,         \"password\": password,         \"balance\": 0.0     }      print(\"\\n✅ Registration Successful!\")     print(f\"🆔 Customer ID: {customer_id}\")     print(f\"🏦 Account Number: {acc_num}\")  # Deposit money def deposit(user):     amount = float(input(\"Enter amount to deposit: ₹\"))     user[\"balance\"] += amount     print(f\"✅ Deposited ₹{amount}. New Balance: ₹{user['balance']}\")  # Withdraw money def withdraw(user):     amount = float(input(\"Enter amount to withdraw: ₹\"))     if amount > user[\"balance\"]:         print(\"❌ Insufficient balance.\")     else:         user[\"balance\"] -= amount         print(f\"✅ Withdrawn ₹{amount}. Remaining Balance: ₹{user['balance']}\")  # Login and dashboard def login(data):     print(\"\\n--- Customer Login ---\")     cust_id = input(\"Enter Customer ID: \")     pwd = input(\"Enter Password: \")      user = data.get(cust_id)     if user and user[\"password\"] == pwd:         print(f\"\\n👋 Welcome, {user['name']}!\")         while True:             print(\"\\n🏦 Account Menu\")             print(\"1. Check Balance\")             print(\"2. Deposit\")             print(\"3. Withdraw\")             print(\"4. Logout\")             choice = input(\"Choose an option: \")              if choice == \"1\":                 print(f\"💰 Balance: ₹{user['balance']}\")             elif choice == \"2\":                 deposit(user)             elif choice == \"3\":                 withdraw(user)             elif choice == \"4\":                 print(\"🔒 Logged out.\")                 break             else:                 print(\"❌ Invalid option.\")     else:         print(\"❌ Invalid credentials.\")  # Main menu def main():     data = load_data()     while True:         print(\"\\n====== Bank Management Menu ======\")         print(\"1. Register New Customer\")         print(\"2. Login to Account\")         print(\"3. Exit\")         choice = input(\"Enter your choice: \")          if choice == \"1\":             register(data)             save_data(data)         elif choice == \"2\":             login(data)             save_data(data)         elif choice == \"3\":             save_data(data)             print(\"👋 Thank you for using our bank!\")             break         else:             print(\"❌ Invalid option.\")  if __name__ == \"__main__\":     main()\n",
      "Enter Password:  Money@01\n"
     ]
    },
    {
     "name": "stdout",
     "output_type": "stream",
     "text": [
      "❌ Invalid credentials.\n",
      "\n",
      "====== Bank Management Menu ======\n",
      "1. Register New Customer\n",
      "2. Login to Account\n",
      "3. Exit\n"
     ]
    },
    {
     "name": "stdin",
     "output_type": "stream",
     "text": [
      "Enter your choice:  1\n"
     ]
    },
    {
     "name": "stdout",
     "output_type": "stream",
     "text": [
      "\n",
      "--- Register New Customer ---\n"
     ]
    },
    {
     "name": "stdin",
     "output_type": "stream",
     "text": [
      "Phone Number:  010101010101010101\n",
      "Full Name:  Money\n",
      "Email ID:  money\n",
      "Create a Password:  Money\n"
     ]
    },
    {
     "name": "stdout",
     "output_type": "stream",
     "text": [
      "\n",
      "✅ Registration Successful!\n",
      "🆔 Customer ID: 641b339e\n",
      "🏦 Account Number: 5139878115\n",
      "\n",
      "====== Bank Management Menu ======\n",
      "1. Register New Customer\n",
      "2. Login to Account\n",
      "3. Exit\n"
     ]
    },
    {
     "name": "stdin",
     "output_type": "stream",
     "text": [
      "Enter your choice:  2\n"
     ]
    },
    {
     "name": "stdout",
     "output_type": "stream",
     "text": [
      "\n",
      "--- Customer Login ---\n"
     ]
    },
    {
     "name": "stdin",
     "output_type": "stream",
     "text": [
      "Enter Customer ID:  641b339e\n",
      "Enter Password:  Money\n"
     ]
    },
    {
     "name": "stdout",
     "output_type": "stream",
     "text": [
      "\n",
      "👋 Welcome, Money!\n",
      "\n",
      "🏦 Account Menu\n",
      "1. Check Balance\n",
      "2. Deposit\n",
      "3. Withdraw\n",
      "4. Logout\n"
     ]
    },
    {
     "name": "stdin",
     "output_type": "stream",
     "text": [
      "Choose an option:  2\n",
      "Enter amount to deposit: ₹ 10000\n"
     ]
    },
    {
     "name": "stdout",
     "output_type": "stream",
     "text": [
      "✅ Deposited ₹10000.0. New Balance: ₹10000.0\n",
      "\n",
      "🏦 Account Menu\n",
      "1. Check Balance\n",
      "2. Deposit\n",
      "3. Withdraw\n",
      "4. Logout\n"
     ]
    },
    {
     "name": "stdin",
     "output_type": "stream",
     "text": [
      "Choose an option:  3\n",
      "Enter amount to withdraw: ₹ 0\n"
     ]
    },
    {
     "name": "stdout",
     "output_type": "stream",
     "text": [
      "✅ Withdrawn ₹0.0. Remaining Balance: ₹10000.0\n",
      "\n",
      "🏦 Account Menu\n",
      "1. Check Balance\n",
      "2. Deposit\n",
      "3. Withdraw\n",
      "4. Logout\n"
     ]
    },
    {
     "name": "stdin",
     "output_type": "stream",
     "text": [
      "Choose an option:  4\n"
     ]
    },
    {
     "name": "stdout",
     "output_type": "stream",
     "text": [
      "🔒 Logged out.\n",
      "\n",
      "====== Bank Management Menu ======\n",
      "1. Register New Customer\n",
      "2. Login to Account\n",
      "3. Exit\n"
     ]
    },
    {
     "name": "stdin",
     "output_type": "stream",
     "text": [
      "Enter your choice:  3\n"
     ]
    },
    {
     "name": "stdout",
     "output_type": "stream",
     "text": [
      "👋 Thank you for using our bank!\n"
     ]
    }
   ],
   "source": [
    "import json\n",
    "import os\n",
    "import uuid\n",
    "import random\n",
    "import string\n",
    "\n",
    "DATA_FILE = \"bank_data.json\"\n",
    "\n",
    "# Load data from file\n",
    "def load_data():\n",
    "    if os.path.exists(DATA_FILE):\n",
    "        with open(DATA_FILE, \"r\") as f:\n",
    "            return json.load(f)\n",
    "    return {}\n",
    "\n",
    "# Save data to file\n",
    "def save_data(data):\n",
    "    with open(DATA_FILE, \"w\") as f:\n",
    "        json.dump(data, f, indent=4)\n",
    "\n",
    "# Generate unique ID\n",
    "def generate_customer_id():\n",
    "    return str(uuid.uuid4())[:8]\n",
    "\n",
    "# Generate random account number\n",
    "def generate_account_number(existing_numbers):\n",
    "    while True:\n",
    "        acc_num = ''.join(random.choices(string.digits, k=10))\n",
    "        if acc_num not in existing_numbers:\n",
    "            return acc_num\n",
    "\n",
    "# Create login password\n",
    "def generate_password(length=8):\n",
    "    chars = string.ascii_letters + string.digits\n",
    "    return ''.join(random.choices(chars, k=length))\n",
    "\n",
    "# Register new customer\n",
    "def register(data):\n",
    "    print(\"\\n--- Register New Customer ---\")\n",
    "    phone = input(\"Phone Number: \")\n",
    "    name = input(\"Full Name: \")\n",
    "    email = input(\"Email ID: \")\n",
    "\n",
    "    customer_id = generate_customer_id()\n",
    "    acc_num = generate_account_number([user[\"account_number\"] for user in data.values()])\n",
    "    password = generate_password()\n",
    "\n",
    "    data[customer_id] = {\n",
    "        \"name\": name,\n",
    "        \"email\": email,\n",
    "        \"phone\": phone,\n",
    "        \"account_number\": acc_num,\n",
    "        \"password\": password,\n",
    "        \"balance\": 0.0\n",
    "    }\n",
    "\n",
    "    print(\"\\nRegistration Successful!\")\n",
    "    print(f\"Customer ID: {customer_id}\")\n",
    "    print(f\"Account Number: {acc_num}\")\n",
    "    print(f\"Login Password: {password}\")\n",
    "\n",
    "# Login and check balance\n",
    "def login(data):\n",
    "    print(\"\\n--- Customer Login ---\")\n",
    "    cust_id = input(\"Enter Customer ID: \")\n",
    "    pwd = input(\"Enter Password: \")\n",
    "\n",
    "    user = data.get(cust_id)\n",
    "    if user and user[\"password\"] == pwd:\n",
    "        print(f\"\\nWelcome, {user['name']}!\")\n",
    "        print(f\"Account Number: {user['account_number']}\")\n",
    "        print(f\"Balance: ₹{user['balance']}\")\n",
    "    else:\n",
    "        print(\"Invalid credentials.\")\n",
    "\n",
    "# Main menu\n",
    "def main():\n",
    "    data = load_data()\n",
    "\n",
    "    while True:\n",
    "        print(\"\\n====== Bank Management Menu ======\")\n",
    "        print(\"1. Register New Customer\")\n",
    "        print(\"2. Login to Account\")\n",
    "        print(\"3. Exit\")\n",
    "        choice = input(\"Enter your choice: \")\n",
    "\n",
    "        if choice == \"1\":\n",
    "            register(data)\n",
    "            save_data(data)\n",
    "        elif choice == \"2\":\n",
    "            login(data)\n",
    "        elif choice == \"3\":\n",
    "            save_data(data)\n",
    "            print(\"Exiting... Thank you!\")\n",
    "            break\n",
    "        else:\n",
    "            print(\"Invalid option. Try again.\")\n",
    "\n",
    "if __name__ == \"__main__\":\n",
    "    main()\n"
   ]
  },
  {
   "cell_type": "code",
   "execution_count": null,
   "id": "11c052b1-c892-4ec7-976c-ef79dff7fe4d",
   "metadata": {},
   "outputs": [],
   "source": []
  }
 ],
 "metadata": {
  "kernelspec": {
   "display_name": "Python 3 (ipykernel)",
   "language": "python",
   "name": "python3"
  },
  "language_info": {
   "codemirror_mode": {
    "name": "ipython",
    "version": 3
   },
   "file_extension": ".py",
   "mimetype": "text/x-python",
   "name": "python",
   "nbconvert_exporter": "python",
   "pygments_lexer": "ipython3",
   "version": "3.11.7"
  }
 },
 "nbformat": 4,
 "nbformat_minor": 5
}
